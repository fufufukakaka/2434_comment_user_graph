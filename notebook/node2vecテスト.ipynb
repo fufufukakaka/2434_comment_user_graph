{
 "cells": [
  {
   "cell_type": "code",
   "execution_count": 4,
   "metadata": {
    "ExecuteTime": {
     "end_time": "2020-11-05T05:41:15.132890Z",
     "start_time": "2020-11-05T05:41:14.440509Z"
    }
   },
   "outputs": [],
   "source": [
    "import networkx as nx\n",
    "from node2vec import Node2Vec\n",
    "import pandas as pd"
   ]
  },
  {
   "cell_type": "code",
   "execution_count": 5,
   "metadata": {
    "ExecuteTime": {
     "end_time": "2020-11-05T05:41:57.328886Z",
     "start_time": "2020-11-05T05:41:57.306111Z"
    }
   },
   "outputs": [],
   "source": [
    "# create graph\n",
    "df = pd.read_csv(\"../nijisanji_chat_graph.csv\")"
   ]
  },
  {
   "cell_type": "code",
   "execution_count": 17,
   "metadata": {
    "ExecuteTime": {
     "end_time": "2020-11-05T05:47:43.447412Z",
     "start_time": "2020-11-05T05:47:43.438626Z"
    }
   },
   "outputs": [
    {
     "data": {
      "text/plain": [
       "Index(['source', 'target', 'edge_count', 'scaled_edge_count'], dtype='object')"
      ]
     },
     "execution_count": 17,
     "metadata": {},
     "output_type": "execute_result"
    }
   ],
   "source": [
    "df.columns"
   ]
  },
  {
   "cell_type": "code",
   "execution_count": 20,
   "metadata": {
    "ExecuteTime": {
     "end_time": "2020-11-05T05:56:03.159558Z",
     "start_time": "2020-11-05T05:56:03.128841Z"
    }
   },
   "outputs": [],
   "source": [
    "df.columns = ['source', 'target', 'edge_count', 'weight']\n",
    "G = nx.from_pandas_edgelist(df, \"source\", \"target\", [\"weight\"])"
   ]
  },
  {
   "cell_type": "code",
   "execution_count": 41,
   "metadata": {
    "ExecuteTime": {
     "end_time": "2020-11-05T06:02:45.950705Z",
     "start_time": "2020-11-05T06:02:01.374620Z"
    }
   },
   "outputs": [
    {
     "name": "stderr",
     "output_type": "stream",
     "text": [
      "Computing transition probabilities: 100%|██████████| 104/104 [00:07<00:00, 13.35it/s]\n"
     ]
    }
   ],
   "source": [
    "# Precompute probabilities and generate walks - **ON WINDOWS ONLY WORKS WITH workers=1**\n",
    "node2vec = Node2Vec(G, dimensions=128, walk_length=30, num_walks=200, workers=4)  # Use temp_folder for big graphs"
   ]
  },
  {
   "cell_type": "code",
   "execution_count": 49,
   "metadata": {
    "ExecuteTime": {
     "end_time": "2020-11-05T06:08:20.793670Z",
     "start_time": "2020-11-05T06:07:52.746430Z"
    }
   },
   "outputs": [],
   "source": [
    "# Embed nodes\n",
    "model = node2vec.fit(window=10, min_count=1, batch_words=4, seed=42)"
   ]
  },
  {
   "cell_type": "code",
   "execution_count": 50,
   "metadata": {
    "ExecuteTime": {
     "end_time": "2020-11-05T06:08:29.344758Z",
     "start_time": "2020-11-05T06:08:29.329681Z"
    },
    "scrolled": true
   },
   "outputs": [
    {
     "data": {
      "text/plain": [
       "[('舞元啓介', 0.9683517217636108),\n",
       " ('文野環', 0.9535559415817261),\n",
       " ('轟京子', 0.9533289670944214),\n",
       " ('赤羽葉子', 0.9525494575500488),\n",
       " ('花畑チャイカ', 0.9523841142654419),\n",
       " ('ましろ', 0.9476977586746216),\n",
       " ('御伽原江良', 0.9439211487770081),\n",
       " ('緑仙', 0.943633496761322),\n",
       " ('夕陽リリ', 0.9429670572280884),\n",
       " ('成瀬鳴', 0.931716799736023)]"
      ]
     },
     "execution_count": 50,
     "metadata": {},
     "output_type": "execute_result"
    }
   ],
   "source": [
    "model.wv.most_similar('月ノ美兎')"
   ]
  },
  {
   "cell_type": "code",
   "execution_count": 51,
   "metadata": {
    "ExecuteTime": {
     "end_time": "2020-11-05T06:08:34.212980Z",
     "start_time": "2020-11-05T06:08:34.207639Z"
    }
   },
   "outputs": [
    {
     "data": {
      "text/plain": [
       "[('魔界ノりりむ', 0.9622323513031006),\n",
       " ('成瀬鳴', 0.9611464738845825),\n",
       " ('花畑チャイカ', 0.9546036720275879),\n",
       " ('鈴原るる', 0.9466467499732971),\n",
       " ('笹木咲', 0.9453818798065186),\n",
       " ('本間ひまわり', 0.9380985498428345),\n",
       " ('ニュイ・ソシエール', 0.9288491606712341),\n",
       " ('エクス・アルビオ', 0.9278891086578369),\n",
       " ('文野環', 0.9273958206176758),\n",
       " ('夢追翔', 0.9249404668807983)]"
      ]
     },
     "execution_count": 51,
     "metadata": {},
     "output_type": "execute_result"
    }
   ],
   "source": [
    "model.wv.most_similar('社築')"
   ]
  },
  {
   "cell_type": "code",
   "execution_count": 54,
   "metadata": {
    "ExecuteTime": {
     "end_time": "2020-11-05T06:08:42.127237Z",
     "start_time": "2020-11-05T06:08:42.117394Z"
    }
   },
   "outputs": [
    {
     "data": {
      "text/plain": [
       "[('葛葉', 0.9757106304168701),\n",
       " ('不破湊', 0.962429940700531),\n",
       " ('椎名唯華', 0.9347176551818848),\n",
       " ('勇気ちひろ', 0.9159013032913208),\n",
       " ('ラトナ・プティ', 0.9092192649841309),\n",
       " ('エクス・アルビオ', 0.8829002380371094),\n",
       " ('イブラヒム', 0.8717691898345947),\n",
       " ('三枝明那', 0.8703913688659668),\n",
       " ('渋谷ハジメ', 0.861824631690979),\n",
       " ('グウェル・オス・ガール', 0.8347264528274536)]"
      ]
     },
     "execution_count": 54,
     "metadata": {},
     "output_type": "execute_result"
    }
   ],
   "source": [
    "model.wv.most_similar('叶')"
   ]
  },
  {
   "cell_type": "code",
   "execution_count": 55,
   "metadata": {
    "ExecuteTime": {
     "end_time": "2020-11-05T06:08:51.756307Z",
     "start_time": "2020-11-05T06:08:51.749241Z"
    }
   },
   "outputs": [
    {
     "data": {
      "text/plain": [
       "[('ドーラ', 0.935104489326477),\n",
       " ('御伽原江良', 0.9325144290924072),\n",
       " ('童田明治', 0.9321447610855103),\n",
       " ('文野環', 0.9286779165267944),\n",
       " ('鈴鹿詩子', 0.921648383140564),\n",
       " ('町田ちま', 0.9202717542648315),\n",
       " ('物述有栖', 0.9120903015136719),\n",
       " ('夕陽リリ', 0.9059736132621765),\n",
       " ('静凛', 0.9032505750656128),\n",
       " ('樋口楓', 0.8946034908294678)]"
      ]
     },
     "execution_count": 55,
     "metadata": {},
     "output_type": "execute_result"
    }
   ],
   "source": [
    "model.wv.most_similar('リゼ・ヘルエスタ')"
   ]
  },
  {
   "cell_type": "code",
   "execution_count": 56,
   "metadata": {
    "ExecuteTime": {
     "end_time": "2020-11-05T06:08:55.561332Z",
     "start_time": "2020-11-05T06:08:55.553320Z"
    }
   },
   "outputs": [
    {
     "data": {
      "text/plain": [
       "[('郡道美玲', 0.9656461477279663),\n",
       " ('エリー・コニファー', 0.9570568799972534),\n",
       " ('鈴鹿詩子', 0.9498031139373779),\n",
       " ('葉加瀬冬雪', 0.9413402080535889),\n",
       " ('空星きらめ', 0.9411152601242065),\n",
       " ('小野町春香', 0.9387507438659668),\n",
       " ('ドーラ', 0.9325311183929443),\n",
       " ('竜胆尊', 0.930375337600708),\n",
       " ('レヴィ・エリファ', 0.9266413450241089),\n",
       " ('山神カルタ', 0.9253100752830505)]"
      ]
     },
     "execution_count": 56,
     "metadata": {},
     "output_type": "execute_result"
    }
   ],
   "source": [
    "model.wv.most_similar('アンジュ・カトリーナ')"
   ]
  },
  {
   "cell_type": "code",
   "execution_count": 57,
   "metadata": {
    "ExecuteTime": {
     "end_time": "2020-11-05T06:09:03.388315Z",
     "start_time": "2020-11-05T06:09:03.382574Z"
    }
   },
   "outputs": [
    {
     "data": {
      "text/plain": [
       "[('相羽ういは', 0.9790965914726257),\n",
       " ('朝日南アカネ', 0.9771113395690918),\n",
       " ('小野町春香', 0.9461452960968018),\n",
       " ('北小路ヒスイ', 0.9450204372406006),\n",
       " ('黒井しば', 0.9445188045501709),\n",
       " ('山神カルタ', 0.9384509325027466),\n",
       " ('健屋花那', 0.9377341270446777),\n",
       " ('東堂コハク', 0.9370049238204956),\n",
       " ('周央サンゴ', 0.9360809326171875),\n",
       " ('空星きらめ', 0.9354572296142578)]"
      ]
     },
     "execution_count": 57,
     "metadata": {},
     "output_type": "execute_result"
    }
   ],
   "source": [
    "model.wv.most_similar('白雪巴')"
   ]
  },
  {
   "cell_type": "code",
   "execution_count": 59,
   "metadata": {
    "ExecuteTime": {
     "end_time": "2020-11-05T06:09:42.537981Z",
     "start_time": "2020-11-05T06:09:42.533113Z"
    }
   },
   "outputs": [
    {
     "data": {
      "text/plain": [
       "[('長尾景', 0.9593351483345032),\n",
       " ('ベルモンド・バンデラス', 0.958264172077179),\n",
       " ('ルイス・キャミー', 0.9543248414993286),\n",
       " ('来栖夏芽', 0.954021692276001),\n",
       " ('アルス・アルマル', 0.9532814025878906),\n",
       " ('東堂コハク', 0.9498096108436584),\n",
       " ('西園チグサ', 0.9461591243743896),\n",
       " ('魔使マオ', 0.9458910226821899),\n",
       " ('メリッサ・キンレンカ', 0.945826530456543),\n",
       " ('桜凛月', 0.9420666694641113)]"
      ]
     },
     "execution_count": 59,
     "metadata": {},
     "output_type": "execute_result"
    }
   ],
   "source": [
    "model.wv.most_similar('シェリン・バーガンディ')"
   ]
  },
  {
   "cell_type": "code",
   "execution_count": 60,
   "metadata": {
    "ExecuteTime": {
     "end_time": "2020-11-05T06:09:56.315856Z",
     "start_time": "2020-11-05T06:09:56.307798Z"
    }
   },
   "outputs": [
    {
     "data": {
      "text/plain": [
       "[('星川サラ', 0.9762992262840271),\n",
       " ('北小路ヒスイ', 0.9757951498031616),\n",
       " ('東堂コハク', 0.973049521446228),\n",
       " ('雪城眞尋', 0.9719136953353882),\n",
       " ('メリッサ・キンレンカ', 0.9718607068061829),\n",
       " ('来栖夏芽', 0.9711172580718994),\n",
       " ('フレン・E・ルスタリオ', 0.9657831192016602),\n",
       " ('ベルモンド・バンデラス', 0.9594865441322327),\n",
       " ('アルス・アルマル', 0.9591988325119019),\n",
       " ('シェリン・バーガンディ', 0.9543248414993286)]"
      ]
     },
     "execution_count": 60,
     "metadata": {},
     "output_type": "execute_result"
    }
   ],
   "source": [
    "model.wv.most_similar('ルイス・キャミー')"
   ]
  },
  {
   "cell_type": "code",
   "execution_count": 61,
   "metadata": {
    "ExecuteTime": {
     "end_time": "2020-11-05T06:10:15.254618Z",
     "start_time": "2020-11-05T06:10:15.249037Z"
    }
   },
   "outputs": [
    {
     "data": {
      "text/plain": [
       "[('三枝明那', 0.9712592363357544),\n",
       " ('弦月藤士郎', 0.9665244221687317),\n",
       " ('渋谷ハジメ', 0.9465838670730591),\n",
       " ('ラトナ・プティ', 0.9465606212615967),\n",
       " ('グウェル・オス・ガール', 0.941568911075592),\n",
       " ('黛灰', 0.9328826665878296),\n",
       " ('椎名唯華', 0.9311296939849854),\n",
       " ('勇気ちひろ', 0.9261093139648438),\n",
       " ('甲斐田晴', 0.9247403144836426),\n",
       " ('不破湊', 0.9171762466430664)]"
      ]
     },
     "execution_count": 61,
     "metadata": {},
     "output_type": "execute_result"
    }
   ],
   "source": [
    "model.wv.most_similar('イブラヒム')"
   ]
  }
 ],
 "metadata": {
  "kernelspec": {
   "display_name": "Python 3",
   "language": "python",
   "name": "python3"
  },
  "language_info": {
   "codemirror_mode": {
    "name": "ipython",
    "version": 3
   },
   "file_extension": ".py",
   "mimetype": "text/x-python",
   "name": "python",
   "nbconvert_exporter": "python",
   "pygments_lexer": "ipython3",
   "version": "3.7.2"
  },
  "varInspector": {
   "cols": {
    "lenName": 16,
    "lenType": 16,
    "lenVar": 40
   },
   "kernels_config": {
    "python": {
     "delete_cmd_postfix": "",
     "delete_cmd_prefix": "del ",
     "library": "var_list.py",
     "varRefreshCmd": "print(var_dic_list())"
    },
    "r": {
     "delete_cmd_postfix": ") ",
     "delete_cmd_prefix": "rm(",
     "library": "var_list.r",
     "varRefreshCmd": "cat(var_dic_list()) "
    }
   },
   "types_to_exclude": [
    "module",
    "function",
    "builtin_function_or_method",
    "instance",
    "_Feature"
   ],
   "window_display": false
  }
 },
 "nbformat": 4,
 "nbformat_minor": 2
}
