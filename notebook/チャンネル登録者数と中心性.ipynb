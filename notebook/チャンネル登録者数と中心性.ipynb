{
 "cells": [
  {
   "cell_type": "code",
   "execution_count": 1,
   "metadata": {
    "ExecuteTime": {
     "end_time": "2020-11-08T10:36:19.393710Z",
     "start_time": "2020-11-08T10:36:19.131870Z"
    }
   },
   "outputs": [],
   "source": [
    "import pandas as pd"
   ]
  },
  {
   "cell_type": "code",
   "execution_count": 6,
   "metadata": {
    "ExecuteTime": {
     "end_time": "2020-11-08T10:39:01.344387Z",
     "start_time": "2020-11-08T10:39:01.333347Z"
    }
   },
   "outputs": [],
   "source": [
    "graph_feature = pd.read_csv(\"../graph_feature.csv\")\n",
    "subscribe_count = pd.read_csv(\"../subscribe_count.csv\")\n",
    "\n",
    "graph_feature = graph_feature[[\"Label\", \"eigencentrality\",\"pageranks\",\"degree\"]]\n",
    "graph_feature.columns = [\"streamer_name\", \"eigencentrality\",\"pageranks\",\"degree\"]"
   ]
  },
  {
   "cell_type": "code",
   "execution_count": 7,
   "metadata": {
    "ExecuteTime": {
     "end_time": "2020-11-08T10:39:03.430898Z",
     "start_time": "2020-11-08T10:39:03.420293Z"
    }
   },
   "outputs": [
    {
     "data": {
      "text/html": [
       "<div>\n",
       "<style scoped>\n",
       "    .dataframe tbody tr th:only-of-type {\n",
       "        vertical-align: middle;\n",
       "    }\n",
       "\n",
       "    .dataframe tbody tr th {\n",
       "        vertical-align: top;\n",
       "    }\n",
       "\n",
       "    .dataframe thead th {\n",
       "        text-align: right;\n",
       "    }\n",
       "</style>\n",
       "<table border=\"1\" class=\"dataframe\">\n",
       "  <thead>\n",
       "    <tr style=\"text-align: right;\">\n",
       "      <th></th>\n",
       "      <th>streamer_name</th>\n",
       "      <th>eigencentrality</th>\n",
       "      <th>pageranks</th>\n",
       "      <th>degree</th>\n",
       "    </tr>\n",
       "  </thead>\n",
       "  <tbody>\n",
       "    <tr>\n",
       "      <th>0</th>\n",
       "      <td>えま★おうがすと</td>\n",
       "      <td>0.000000</td>\n",
       "      <td>0.003713</td>\n",
       "      <td>1</td>\n",
       "    </tr>\n",
       "    <tr>\n",
       "      <th>1</th>\n",
       "      <td>月ノ美兎</td>\n",
       "      <td>0.248662</td>\n",
       "      <td>0.025716</td>\n",
       "      <td>81</td>\n",
       "    </tr>\n",
       "    <tr>\n",
       "      <th>2</th>\n",
       "      <td>える</td>\n",
       "      <td>0.000000</td>\n",
       "      <td>0.003713</td>\n",
       "      <td>5</td>\n",
       "    </tr>\n",
       "    <tr>\n",
       "      <th>3</th>\n",
       "      <td>アンジュ・カトリーナ</td>\n",
       "      <td>0.003225</td>\n",
       "      <td>0.004649</td>\n",
       "      <td>75</td>\n",
       "    </tr>\n",
       "    <tr>\n",
       "      <th>4</th>\n",
       "      <td>勇気ちひろ</td>\n",
       "      <td>0.060853</td>\n",
       "      <td>0.005833</td>\n",
       "      <td>43</td>\n",
       "    </tr>\n",
       "  </tbody>\n",
       "</table>\n",
       "</div>"
      ],
      "text/plain": [
       "  streamer_name  eigencentrality  pageranks  degree\n",
       "0      えま★おうがすと         0.000000   0.003713       1\n",
       "1          月ノ美兎         0.248662   0.025716      81\n",
       "2            える         0.000000   0.003713       5\n",
       "3    アンジュ・カトリーナ         0.003225   0.004649      75\n",
       "4         勇気ちひろ         0.060853   0.005833      43"
      ]
     },
     "execution_count": 7,
     "metadata": {},
     "output_type": "execute_result"
    }
   ],
   "source": [
    "graph_feature.head()"
   ]
  },
  {
   "cell_type": "code",
   "execution_count": 4,
   "metadata": {
    "ExecuteTime": {
     "end_time": "2020-11-08T10:37:03.573685Z",
     "start_time": "2020-11-08T10:37:03.566571Z"
    }
   },
   "outputs": [
    {
     "data": {
      "text/html": [
       "<div>\n",
       "<style scoped>\n",
       "    .dataframe tbody tr th:only-of-type {\n",
       "        vertical-align: middle;\n",
       "    }\n",
       "\n",
       "    .dataframe tbody tr th {\n",
       "        vertical-align: top;\n",
       "    }\n",
       "\n",
       "    .dataframe thead th {\n",
       "        text-align: right;\n",
       "    }\n",
       "</style>\n",
       "<table border=\"1\" class=\"dataframe\">\n",
       "  <thead>\n",
       "    <tr style=\"text-align: right;\">\n",
       "      <th></th>\n",
       "      <th>streamer_name</th>\n",
       "      <th>subscriberCount</th>\n",
       "    </tr>\n",
       "  </thead>\n",
       "  <tbody>\n",
       "    <tr>\n",
       "      <th>0</th>\n",
       "      <td>愛園愛美</td>\n",
       "      <td>124000</td>\n",
       "    </tr>\n",
       "    <tr>\n",
       "      <th>1</th>\n",
       "      <td>相羽ういは</td>\n",
       "      <td>163000</td>\n",
       "    </tr>\n",
       "    <tr>\n",
       "      <th>2</th>\n",
       "      <td>赤羽葉子</td>\n",
       "      <td>119000</td>\n",
       "    </tr>\n",
       "    <tr>\n",
       "      <th>3</th>\n",
       "      <td>朝日南アカネ</td>\n",
       "      <td>55300</td>\n",
       "    </tr>\n",
       "    <tr>\n",
       "      <th>4</th>\n",
       "      <td>飛鳥ひな</td>\n",
       "      <td>82700</td>\n",
       "    </tr>\n",
       "  </tbody>\n",
       "</table>\n",
       "</div>"
      ],
      "text/plain": [
       "  streamer_name  subscriberCount\n",
       "0          愛園愛美           124000\n",
       "1         相羽ういは           163000\n",
       "2          赤羽葉子           119000\n",
       "3        朝日南アカネ            55300\n",
       "4          飛鳥ひな            82700"
      ]
     },
     "execution_count": 4,
     "metadata": {},
     "output_type": "execute_result"
    }
   ],
   "source": [
    "subscribe_count.head()"
   ]
  },
  {
   "cell_type": "code",
   "execution_count": 9,
   "metadata": {
    "ExecuteTime": {
     "end_time": "2020-11-08T10:39:26.273976Z",
     "start_time": "2020-11-08T10:39:26.259796Z"
    }
   },
   "outputs": [
    {
     "data": {
      "text/html": [
       "<div>\n",
       "<style scoped>\n",
       "    .dataframe tbody tr th:only-of-type {\n",
       "        vertical-align: middle;\n",
       "    }\n",
       "\n",
       "    .dataframe tbody tr th {\n",
       "        vertical-align: top;\n",
       "    }\n",
       "\n",
       "    .dataframe thead th {\n",
       "        text-align: right;\n",
       "    }\n",
       "</style>\n",
       "<table border=\"1\" class=\"dataframe\">\n",
       "  <thead>\n",
       "    <tr style=\"text-align: right;\">\n",
       "      <th></th>\n",
       "      <th>streamer_name</th>\n",
       "      <th>subscriberCount</th>\n",
       "      <th>eigencentrality</th>\n",
       "      <th>pageranks</th>\n",
       "      <th>degree</th>\n",
       "    </tr>\n",
       "  </thead>\n",
       "  <tbody>\n",
       "    <tr>\n",
       "      <th>0</th>\n",
       "      <td>相羽ういは</td>\n",
       "      <td>163000</td>\n",
       "      <td>0.105290</td>\n",
       "      <td>0.005769</td>\n",
       "      <td>10</td>\n",
       "    </tr>\n",
       "    <tr>\n",
       "      <th>1</th>\n",
       "      <td>赤羽葉子</td>\n",
       "      <td>119000</td>\n",
       "      <td>0.613655</td>\n",
       "      <td>0.019510</td>\n",
       "      <td>32</td>\n",
       "    </tr>\n",
       "    <tr>\n",
       "      <th>2</th>\n",
       "      <td>天宮こころ</td>\n",
       "      <td>201000</td>\n",
       "      <td>0.129002</td>\n",
       "      <td>0.007635</td>\n",
       "      <td>59</td>\n",
       "    </tr>\n",
       "    <tr>\n",
       "      <th>3</th>\n",
       "      <td>雨森小夜</td>\n",
       "      <td>120000</td>\n",
       "      <td>0.611428</td>\n",
       "      <td>0.025584</td>\n",
       "      <td>28</td>\n",
       "    </tr>\n",
       "    <tr>\n",
       "      <th>4</th>\n",
       "      <td>アルス・アルマル</td>\n",
       "      <td>353000</td>\n",
       "      <td>0.000763</td>\n",
       "      <td>0.003790</td>\n",
       "      <td>53</td>\n",
       "    </tr>\n",
       "  </tbody>\n",
       "</table>\n",
       "</div>"
      ],
      "text/plain": [
       "  streamer_name  subscriberCount  eigencentrality  pageranks  degree\n",
       "0         相羽ういは           163000         0.105290   0.005769      10\n",
       "1          赤羽葉子           119000         0.613655   0.019510      32\n",
       "2         天宮こころ           201000         0.129002   0.007635      59\n",
       "3          雨森小夜           120000         0.611428   0.025584      28\n",
       "4      アルス・アルマル           353000         0.000763   0.003790      53"
      ]
     },
     "execution_count": 9,
     "metadata": {},
     "output_type": "execute_result"
    }
   ],
   "source": [
    "merged = pd.merge(subscribe_count, graph_feature)\n",
    "merged.head()"
   ]
  },
  {
   "cell_type": "code",
   "execution_count": 10,
   "metadata": {
    "ExecuteTime": {
     "end_time": "2020-11-08T10:41:28.001827Z",
     "start_time": "2020-11-08T10:41:27.207147Z"
    }
   },
   "outputs": [
    {
     "name": "stderr",
     "output_type": "stream",
     "text": [
      "/Users/yusuke-fukasawa/.pyenv/versions/anaconda3-5.3.1/lib/python3.7/site-packages/japanize_matplotlib/japanize_matplotlib.py:15: MatplotlibDeprecationWarning: \n",
      "The createFontList function was deprecated in Matplotlib 3.2 and will be removed two minor releases later. Use FontManager.addfont instead.\n",
      "  font_list = font_manager.createFontList(font_files)\n"
     ]
    }
   ],
   "source": [
    "# 散布図を描く\n",
    "%config InlineBackend.figure_formats = {'png', 'retina'}\n",
    "%matplotlib inline\n",
    "import japanize_matplotlib\n",
    "import matplotlib.pyplot as plt\n",
    "import seaborn as sns"
   ]
  },
  {
   "cell_type": "code",
   "execution_count": 14,
   "metadata": {
    "ExecuteTime": {
     "end_time": "2020-11-08T10:43:53.385998Z",
     "start_time": "2020-11-08T10:43:53.177538Z"
    }
   },
   "outputs": [
    {
     "data": {
      "text/plain": [
       "Text(0, 0.5, '次数中心性')"
      ]
     },
     "execution_count": 14,
     "metadata": {},
     "output_type": "execute_result"
    },
    {
     "data": {
      "image/png": "[encoded data removed]",
      "text/plain": [
       "<Figure size 576x432 with 1 Axes>"
      ]
     },
     "metadata": {
      "image/png": {
       "height": 387,
       "width": 494
      },
      "needs_background": "light"
     },
     "output_type": "display_data"
    }
   ],
   "source": [
    "ax = merged.plot(kind=\"scatter\", x=\"subscriberCount\", y=\"degree\", figsize=(8,6), title=\"登録者数と次数中心性の関係性\")\n",
    "ax.set_xlabel(\"チャンネル登録者数\")\n",
    "ax.set_ylabel(\"次数中心性\")"
   ]
  },
  {
   "cell_type": "code",
   "execution_count": 15,
   "metadata": {
    "ExecuteTime": {
     "end_time": "2020-11-08T10:44:17.672366Z",
     "start_time": "2020-11-08T10:44:17.475060Z"
    }
   },
   "outputs": [
    {
     "data": {
      "text/plain": [
       "Text(0, 0.5, 'PageRank')"
      ]
     },
     "execution_count": 15,
     "metadata": {},
     "output_type": "execute_result"
    },
    {
     "data": {
      "image/png": "[encoded data removed]",
      "text/plain": [
       "<Figure size 576x432 with 1 Axes>"
      ]
     },
     "metadata": {
      "image/png": {
       "height": 387,
       "width": 503
      },
      "needs_background": "light"
     },
     "output_type": "display_data"
    }
   ],
   "source": [
    "ax = merged.plot(kind=\"scatter\", x=\"subscriberCount\", y=\"pageranks\", figsize=(8,6), title=\"登録者数とPageRankの関係性\")\n",
    "ax.set_xlabel(\"チャンネル登録者数\")\n",
    "ax.set_ylabel(\"PageRank\")"
   ]
  },
  {
   "cell_type": "code",
   "execution_count": 17,
   "metadata": {
    "ExecuteTime": {
     "end_time": "2020-11-08T10:44:43.618698Z",
     "start_time": "2020-11-08T10:44:43.606109Z"
    }
   },
   "outputs": [
    {
     "data": {
      "text/html": [
       "<div>\n",
       "<style scoped>\n",
       "    .dataframe tbody tr th:only-of-type {\n",
       "        vertical-align: middle;\n",
       "    }\n",
       "\n",
       "    .dataframe tbody tr th {\n",
       "        vertical-align: top;\n",
       "    }\n",
       "\n",
       "    .dataframe thead th {\n",
       "        text-align: right;\n",
       "    }\n",
       "</style>\n",
       "<table border=\"1\" class=\"dataframe\">\n",
       "  <thead>\n",
       "    <tr style=\"text-align: right;\">\n",
       "      <th></th>\n",
       "      <th>subscriberCount</th>\n",
       "      <th>eigencentrality</th>\n",
       "      <th>pageranks</th>\n",
       "      <th>degree</th>\n",
       "    </tr>\n",
       "  </thead>\n",
       "  <tbody>\n",
       "    <tr>\n",
       "      <th>subscriberCount</th>\n",
       "      <td>1.000000</td>\n",
       "      <td>0.199218</td>\n",
       "      <td>0.134883</td>\n",
       "      <td>0.547489</td>\n",
       "    </tr>\n",
       "    <tr>\n",
       "      <th>eigencentrality</th>\n",
       "      <td>0.199218</td>\n",
       "      <td>1.000000</td>\n",
       "      <td>0.792463</td>\n",
       "      <td>0.329658</td>\n",
       "    </tr>\n",
       "    <tr>\n",
       "      <th>pageranks</th>\n",
       "      <td>0.134883</td>\n",
       "      <td>0.792463</td>\n",
       "      <td>1.000000</td>\n",
       "      <td>0.255101</td>\n",
       "    </tr>\n",
       "    <tr>\n",
       "      <th>degree</th>\n",
       "      <td>0.547489</td>\n",
       "      <td>0.329658</td>\n",
       "      <td>0.255101</td>\n",
       "      <td>1.000000</td>\n",
       "    </tr>\n",
       "  </tbody>\n",
       "</table>\n",
       "</div>"
      ],
      "text/plain": [
       "                 subscriberCount  eigencentrality  pageranks    degree\n",
       "subscriberCount         1.000000         0.199218   0.134883  0.547489\n",
       "eigencentrality         0.199218         1.000000   0.792463  0.329658\n",
       "pageranks               0.134883         0.792463   1.000000  0.255101\n",
       "degree                  0.547489         0.329658   0.255101  1.000000"
      ]
     },
     "execution_count": 17,
     "metadata": {},
     "output_type": "execute_result"
    }
   ],
   "source": [
    "# 相関係数を調べる\n",
    "merged.corr()"
   ]
  }
 ],
 "metadata": {
  "kernelspec": {
   "display_name": "Python 3",
   "language": "python",
   "name": "python3"
  },
  "language_info": {
   "codemirror_mode": {
    "name": "ipython",
    "version": 3
   },
   "file_extension": ".py",
   "mimetype": "text/x-python",
   "name": "python",
   "nbconvert_exporter": "python",
   "pygments_lexer": "ipython3",
   "version": "3.7.2"
  },
  "varInspector": {
   "cols": {
    "lenName": 16,
    "lenType": 16,
    "lenVar": 40
   },
   "kernels_config": {
    "python": {
     "delete_cmd_postfix": "",
     "delete_cmd_prefix": "del ",
     "library": "var_list.py",
     "varRefreshCmd": "print(var_dic_list())"
    },
    "r": {
     "delete_cmd_postfix": ") ",
     "delete_cmd_prefix": "rm(",
     "library": "var_list.r",
     "varRefreshCmd": "cat(var_dic_list()) "
    }
   },
   "types_to_exclude": [
    "module",
    "function",
    "builtin_function_or_method",
    "instance",
    "_Feature"
   ],
   "window_display": false
  }
 },
 "nbformat": 4,
 "nbformat_minor": 2
}
